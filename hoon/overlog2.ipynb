{
 "cells": [
  {
   "cell_type": "markdown",
   "metadata": {
    "nbpresent": {
     "id": "f2b3a2dc-8cc1-4988-a5e4-aed455eff7c7"
    }
   },
   "source": [
    "<h1> Python </h1>"
   ]
  },
  {
   "cell_type": "markdown",
   "metadata": {
    "nbpresent": {
     "id": "05210ff0-490c-4ddd-918b-71e10b958b96"
    }
   },
   "source": [
    "<h3>1. 데이터 준비, overlog.gg 데이터 가져오기</h3>"
   ]
  },
  {
   "cell_type": "code",
   "execution_count": 1,
   "metadata": {
    "collapsed": false,
    "nbpresent": {
     "id": "5e680042-6cd2-4de5-941e-086e557cff66"
    }
   },
   "outputs": [],
   "source": [
    "import urllib.request\n",
    "from bs4 import BeautifulSoup\n",
    "import numpy as np\n",
    "import pandas as pd`"
   ]
  },
  {
   "cell_type": "code",
   "execution_count": 2,
   "metadata": {
    "collapsed": false,
    "nbpresent": {
     "id": "48f7b901-13c9-49a9-bb37-9f318df96197"
    }
   },
   "outputs": [],
   "source": [
    "def getoverlog(number):\n",
    "    url = \"http://overlog.gg/leaderboards/global/rank/\" +str(number)\n",
    "    f = urllib.request.urlopen(url)\n",
    "    overlog = f.read() .decode(\"utf8\")\n",
    "    f.close()\n",
    "    soup = BeautifulSoup(overlog, \"lxml\")\n",
    "\n",
    "    ranking = list(ranking.get_text().replace('\\n','') for ranking in soup.find_all(\"td\", \"ContentCell ContentCell-Rank\"))\n",
    "    country = list(country.get_text().replace('\\n','') for country in soup.find_all(\"td\", \"ContentCell ContentCell-Platform\"))\n",
    "    player = list(player.get_text() for player in soup.select(\"td > a > b\"))\n",
    "    lv = list(lv.get_text().replace('Lv. ','') for lv in soup.select(\"td > a > em\"))\n",
    "    point = list(point.get_text().replace('\\n','').replace(' ','') for point in soup.find_all(\"td\",\"ContentCell ContentCell-SkillRating\"))\n",
    "    killdeath = list(kd.get_text().split(\":\")[0] for kd in soup.select(\"td > b\"))\n",
    "    winratio = list(winratio.get_text().replace('\\n','').replace('%','') for winratio in soup.find_all(\"div\",\"WinRatio\"))\n",
    "    playtime  =list(playtime.get_text().replace('\\n','').replace('hours','').replace(' ','') for playtime in soup.find_all(\"td\",\"ContentCell ContentCell-PlayTime\"))\n",
    "    \n",
    "    overlog = pd.DataFrame({'Ranking':ranking, 'Country' : country, 'Player':player, 'Lv':lv, 'Point':point, 'K/D':killdeath, 'Winratio':winratio, 'Playtime':playtime})\n",
    "    return(overlog)"
   ]
  },
  {
   "cell_type": "code",
   "execution_count": 4,
   "metadata": {
    "collapsed": false,
    "nbpresent": {
     "id": "487af54a-7f68-4ada-81c0-c1ae917ecb82"
    }
   },
   "outputs": [],
   "source": [
    "high = getoverlog(1)\n",
    "middle = getoverlog(1001)\n",
    "low = getoverlog(10001)"
   ]
  },
  {
   "cell_type": "code",
   "execution_count": 5,
   "metadata": {
    "collapsed": false,
    "nbpresent": {
     "id": "de25bec1-3870-493e-b498-d0fccf89f812"
    }
   },
   "outputs": [
    {
     "data": {
      "text/html": [
       "<div>\n",
       "<table border=\"1\" class=\"dataframe\">\n",
       "  <thead>\n",
       "    <tr style=\"text-align: right;\">\n",
       "      <th></th>\n",
       "      <th>Country</th>\n",
       "      <th>K/D</th>\n",
       "      <th>Lv</th>\n",
       "      <th>Player</th>\n",
       "      <th>Playtime</th>\n",
       "      <th>Point</th>\n",
       "      <th>Ranking</th>\n",
       "      <th>Winratio</th>\n",
       "    </tr>\n",
       "  </thead>\n",
       "  <tbody>\n",
       "    <tr>\n",
       "      <th>0</th>\n",
       "      <td>PC-KR</td>\n",
       "      <td>6.29</td>\n",
       "      <td>406</td>\n",
       "      <td>EVERMORE</td>\n",
       "      <td>8</td>\n",
       "      <td>5000</td>\n",
       "      <td>1</td>\n",
       "      <td>96</td>\n",
       "    </tr>\n",
       "    <tr>\n",
       "      <th>1</th>\n",
       "      <td>PC-KR</td>\n",
       "      <td>3.45</td>\n",
       "      <td>76</td>\n",
       "      <td>boss</td>\n",
       "      <td>31</td>\n",
       "      <td>5000</td>\n",
       "      <td>2</td>\n",
       "      <td>77</td>\n",
       "    </tr>\n",
       "    <tr>\n",
       "      <th>2</th>\n",
       "      <td>PC-KR</td>\n",
       "      <td>3.48</td>\n",
       "      <td>53</td>\n",
       "      <td>BOSS</td>\n",
       "      <td>25</td>\n",
       "      <td>4916</td>\n",
       "      <td>3</td>\n",
       "      <td>74</td>\n",
       "    </tr>\n",
       "    <tr>\n",
       "      <th>3</th>\n",
       "      <td>PC-EU</td>\n",
       "      <td>3.31</td>\n",
       "      <td>195</td>\n",
       "      <td>SoOn</td>\n",
       "      <td>29</td>\n",
       "      <td>4900</td>\n",
       "      <td>4</td>\n",
       "      <td>77</td>\n",
       "    </tr>\n",
       "    <tr>\n",
       "      <th>4</th>\n",
       "      <td>PC-EU</td>\n",
       "      <td>3.74</td>\n",
       "      <td>151</td>\n",
       "      <td>Zebbosai</td>\n",
       "      <td>16</td>\n",
       "      <td>4860</td>\n",
       "      <td>5</td>\n",
       "      <td>79</td>\n",
       "    </tr>\n",
       "  </tbody>\n",
       "</table>\n",
       "</div>"
      ],
      "text/plain": [
       "  Country    K/D   Lv    Player Playtime Point Ranking Winratio\n",
       "0   PC-KR  6.29   406  EVERMORE        8  5000       1       96\n",
       "1   PC-KR  3.45    76      boss       31  5000       2       77\n",
       "2   PC-KR  3.48    53      BOSS       25  4916       3       74\n",
       "3   PC-EU  3.31   195      SoOn       29  4900       4       77\n",
       "4   PC-EU  3.74   151  Zebbosai       16  4860       5       79"
      ]
     },
     "execution_count": 5,
     "metadata": {},
     "output_type": "execute_result"
    }
   ],
   "source": [
    "high.head()"
   ]
  },
  {
   "cell_type": "code",
   "execution_count": 6,
   "metadata": {
    "collapsed": false,
    "nbpresent": {
     "id": "c606367d-cc44-4c45-80a4-6c543dbf082e"
    }
   },
   "outputs": [],
   "source": [
    "high.to_csv(\"high.csv\", sep=',')\n",
    "middle.to_csv(\"middle.csv\", sep=',')\n",
    "low.to_csv(\"low.csv\", sep=',')"
   ]
  },
  {
   "cell_type": "markdown",
   "metadata": {
    "nbpresent": {
     "id": "deb89fa8-626e-4984-a488-4f284a7e1dc8"
    }
   },
   "source": [
    "<h1> R </h1>"
   ]
  },
  {
   "cell_type": "markdown",
   "metadata": {
    "nbpresent": {
     "id": "c6e531c8-66e2-4981-a5e7-9e23eb312353"
    }
   },
   "source": [
    "<h3>2. 분석</h3>\n",
    "<li>T-test</li>\n",
    "<li>ANOVA</li>\n",
    "<li>카이제곱</li>\n",
    "<li>단순회귀</li>"
   ]
  },
  {
   "cell_type": "code",
   "execution_count": 1,
   "metadata": {
    "collapsed": false,
    "nbpresent": {
     "id": "e172b159-3135-4c29-80c1-95e9cf274f17"
    }
   },
   "outputs": [],
   "source": [
    "#install.packages(\"repr\")\n",
    "library(repr)"
   ]
  },
  {
   "cell_type": "code",
   "execution_count": 2,
   "metadata": {
    "collapsed": true,
    "nbpresent": {
     "id": "e13c8eec-ff8f-4d7a-9859-2150a10d8b22"
    }
   },
   "outputs": [],
   "source": [
    "#csv 파일 읽기\n",
    "high  <-  read.csv(\"high.csv\")\n",
    "middle  <-  read.csv(\"middle.csv\")\n",
    "low  <-  read.csv(\"low.csv\")"
   ]
  },
  {
   "cell_type": "code",
   "execution_count": 3,
   "metadata": {
    "collapsed": false,
    "nbpresent": {
     "id": "f05a868c-534b-4add-95d1-39ba248b2a28"
    }
   },
   "outputs": [
    {
     "name": "stdout",
     "output_type": "stream",
     "text": [
      "'data.frame':\t100 obs. of  9 variables:\n",
      " $ X       : int  0 1 2 3 4 5 6 7 8 9 ...\n",
      " $ Country : Factor w/ 3 levels \"PC-EU\",\"PC-KR\",..: 2 2 2 1 1 3 1 2 1 2 ...\n",
      " $ K.D     : num  6.29 3.45 3.48 3.31 3.74 4.96 3 3.6 3.22 3.76 ...\n",
      " $ Lv      : int  406 76 53 195 151 298 171 491 161 297 ...\n",
      " $ Player  : Factor w/ 97 levels \"AFLagerMan\",\"Agilities\",..: 21 8 10 71 84 72 39 74 86 75 ...\n",
      " $ Playtime: int  8 31 25 29 16 6 11 23 11 16 ...\n",
      " $ Point   : int  5000 5000 4916 4900 4860 4836 4833 4831 4817 4809 ...\n",
      " $ Ranking : int  1 2 3 4 5 6 7 8 9 10 ...\n",
      " $ Winratio: int  96 77 74 77 79 83 78 77 71 80 ...\n"
     ]
    }
   ],
   "source": [
    "str(high)"
   ]
  },
  {
   "cell_type": "markdown",
   "metadata": {
    "nbpresent": {
     "id": "47a8f677-ae49-437e-8ea5-34f11239d827"
    }
   },
   "source": [
    "<h4>t-test의 유형 <br>\n",
    "\n",
    "A. 2-Sample t-test: 서로 다른 두개의 그룹 간의 평균 비교<br>\n",
    "(예: 남자와 여자 간 소득의 차이 비교)<br>\n",
    "\n",
    "B. Paired t-test : 하나의 집단에 대한 비교<br>\n",
    "(예: 과외를 하기 전과 후의 반 학생들의 성적 변화)<br>\n",
    "\n",
    "> '고수'구간과 '중수'구간의 킬데스의 평균에 차이가 있을까?  ->  2-Sample t-test"
   ]
  },
  {
   "cell_type": "code",
   "execution_count": 4,
   "metadata": {
    "collapsed": true,
    "nbpresent": {
     "id": "b4721e58-e224-4c8b-a9fb-afabe1c3d6a4"
    }
   },
   "outputs": [],
   "source": [
    "# 정규성, 등분산성, 독립성? 확인"
   ]
  },
  {
   "cell_type": "code",
   "execution_count": 5,
   "metadata": {
    "collapsed": false,
    "nbpresent": {
     "id": "b90a7a66-2373-4899-adf6-7490343298cf"
    }
   },
   "outputs": [
    {
     "data": {
      "text/plain": [
       "\n",
       "\tShapiro-Wilk normality test\n",
       "\n",
       "data:  high$K.D\n",
       "W = 0.9496, p-value = 0.000781\n"
      ]
     },
     "metadata": {},
     "output_type": "display_data"
    },
    {
     "data": {
      "text/plain": [
       "\n",
       "\tShapiro-Wilk normality test\n",
       "\n",
       "data:  middle$K.D\n",
       "W = 0.94745, p-value = 0.0005654\n"
      ]
     },
     "metadata": {},
     "output_type": "display_data"
    }
   ],
   "source": [
    "# 정규성 검정 (N>=30)\n",
    "shapiro.test(high$K.D)\n",
    "shapiro.test(middle$K.D)\n",
    "# 귀무가설 : 데이터가 정규분포를 따른다.\n",
    "# 대립가설 : 데이터가 정규분포를 따르지 않는다."
   ]
  },
  {
   "cell_type": "code",
   "execution_count": 6,
   "metadata": {
    "collapsed": false,
    "nbpresent": {
     "id": "91642b07-2b05-4fdb-b4a2-ab6fa1200186"
    }
   },
   "outputs": [
    {
     "data": {
      "text/html": [
       "<ol class=list-inline>\n",
       "\t<li>1</li>\n",
       "\t<li>2</li>\n",
       "</ol>\n"
      ],
      "text/latex": [
       "\\begin{enumerate*}\n",
       "\\item 1\n",
       "\\item 2\n",
       "\\end{enumerate*}\n"
      ],
      "text/markdown": [
       "1. 1\n",
       "2. 2\n",
       "\n",
       "\n"
      ],
      "text/plain": [
       "[1] 1 2"
      ]
     },
     "metadata": {},
     "output_type": "display_data"
    },
    {
     "data": {
      "image/png": "[encoded data removed]",
      "text/plain": [
       "Plot with title \"Histogram of middle$K.D\""
      ]
     },
     "metadata": {},
     "output_type": "display_data"
    }
   ],
   "source": [
    "split.screen(c(1,2))\n",
    "options(repr.plot.width = 10)\n",
    "options(repr.plot.height = 3)\n",
    "screen(1)\n",
    "hist(high$K.D)\n",
    "screen(2)\n",
    "hist(middle$K.D)\n",
    "close.screen(all=T)"
   ]
  },
  {
   "cell_type": "code",
   "execution_count": 7,
   "metadata": {
    "collapsed": false,
    "nbpresent": {
     "id": "912b88e8-96db-47d4-9542-a1fbd8201a54"
    }
   },
   "outputs": [
    {
     "data": {
      "image/png": "[encoded data removed]",
      "text/plain": [
       "Plot with title \"Histogram of middle$K.D\""
      ]
     },
     "metadata": {},
     "output_type": "display_data"
    }
   ],
   "source": [
    "par( mfrow = c( 1, 2 ) )\n",
    "options(repr.plot.width = 10)\n",
    "options(repr.plot.height = 3)\n",
    "\n",
    "hist(high$K.D)\n",
    "hist(middle$K.D)"
   ]
  },
  {
   "cell_type": "code",
   "execution_count": 8,
   "metadata": {
    "collapsed": false,
    "nbpresent": {
     "id": "5e6ba4a0-d36f-41a5-8c5a-904ebd97aae2"
    }
   },
   "outputs": [
    {
     "data": {
      "text/plain": [
       "\n",
       "\tF test to compare two variances\n",
       "\n",
       "data:  high$K.D and middle$K.D\n",
       "F = 1.0224, num df = 99, denom df = 99, p-value = 0.9123\n",
       "alternative hypothesis: true ratio of variances is not equal to 1\n",
       "95 percent confidence interval:\n",
       " 0.6879395 1.5195833\n",
       "sample estimates:\n",
       "ratio of variances \n",
       "          1.022439 \n"
      ]
     },
     "metadata": {},
     "output_type": "display_data"
    }
   ],
   "source": [
    "# 등분산성 검정\n",
    "var.test(high$K.D, middle$K.D)\n",
    "# 귀무가설 : 두 집단의 분산이 다르다\n",
    "# 대립가설 : 두 집단의 분산이 같다."
   ]
  },
  {
   "cell_type": "code",
   "execution_count": 9,
   "metadata": {
    "collapsed": false,
    "nbpresent": {
     "id": "67508309-5b9e-46e4-92e9-afd3dea18dd9"
    }
   },
   "outputs": [
    {
     "data": {
      "text/plain": [
       "\n",
       "\tWelch Two Sample t-test\n",
       "\n",
       "data:  high$K.D and middle$K.D\n",
       "t = 7.8473, df = 197.98, p-value = 2.606e-13\n",
       "alternative hypothesis: true difference in means is not equal to 0\n",
       "95 percent confidence interval:\n",
       " 0.6376687 1.0657313\n",
       "sample estimates:\n",
       "mean of x mean of y \n",
       "   3.4509    2.5992 \n"
      ]
     },
     "metadata": {},
     "output_type": "display_data"
    }
   ],
   "source": [
    "#등분산 O\n",
    "t.test(high$K.D, middle$K.D, pair=F, var.equal = F, conf.level=0.95)\n",
    "#등분산 X\n",
    "#t.test(high$K.D, middle$K.D, pair=F, var.equal = T, conf.level=0.95)\n",
    "# 귀무가설 : 두 집단의 평균이 같다.\n",
    "# 대립가설 : 두 집단의 평균이 다르다."
   ]
  },
  {
   "cell_type": "code",
   "execution_count": 10,
   "metadata": {
    "collapsed": false,
    "nbpresent": {
     "id": "4b7a0933-5fdd-452e-98b8-a5fd8a99b8f8"
    }
   },
   "outputs": [
    {
     "data": {
      "text/plain": [
       "\n",
       "\tWilcoxon rank sum test with continuity correction\n",
       "\n",
       "data:  high$K.D and middle$K.D\n",
       "W = 8108.5, p-value = 3.094e-14\n",
       "alternative hypothesis: true location shift is not equal to 0\n"
      ]
     },
     "metadata": {},
     "output_type": "display_data"
    }
   ],
   "source": [
    "#정규성 만족 X 시 사용\n",
    "wilcox.test(high$K.D,middle$K.D)"
   ]
  },
  {
   "cell_type": "code",
   "execution_count": 11,
   "metadata": {
    "collapsed": true,
    "nbpresent": {
     "id": "7acf3045-f14d-4f44-9c32-41c68b08fef5"
    }
   },
   "outputs": [],
   "source": [
    "# http://acpi.tistory.com/30\n",
    "# http://www.dodomira.com/2016/04/02/r%EC%9D%84-%EC%82%AC%EC%9A%A9%ED%95%9C-t-test/\n",
    "# http://www.statmethods.net/stats/ttest.html"
   ]
  },
  {
   "cell_type": "markdown",
   "metadata": {
    "nbpresent": {
     "id": "0d1900af-beba-40c2-90d2-c8401c75c52a"
    }
   },
   "source": [
    "<h4>일원배치 분산분석(One-way ANOVA) <br>\n",
    "\n",
    "독립된 세 집단 이상의 평균을 비교하고자 할 때 사용하는 분석 방법<br>\n",
    "aov, bartlett.test 함수 사용<br>\n",
    "그룹 변수를 factor로 변환 후 사용<br> \n",
    "</h4>"
   ]
  },
  {
   "cell_type": "code",
   "execution_count": 12,
   "metadata": {
    "collapsed": false,
    "nbpresent": {
     "id": "076c8707-8e0f-4298-b42c-06c3870f8e24"
    }
   },
   "outputs": [
    {
     "data": {
      "text/html": [
       "<ol class=list-inline>\n",
       "\t<li>300</li>\n",
       "\t<li>10</li>\n",
       "</ol>\n"
      ],
      "text/latex": [
       "\\begin{enumerate*}\n",
       "\\item 300\n",
       "\\item 10\n",
       "\\end{enumerate*}\n"
      ],
      "text/markdown": [
       "1. 300\n",
       "2. 10\n",
       "\n",
       "\n"
      ],
      "text/plain": [
       "[1] 300  10"
      ]
     },
     "metadata": {},
     "output_type": "display_data"
    },
    {
     "data": {
      "text/html": [
       "'numeric'"
      ],
      "text/latex": [
       "'numeric'"
      ],
      "text/markdown": [
       "'numeric'"
      ],
      "text/plain": [
       "[1] \"numeric\""
      ]
     },
     "metadata": {},
     "output_type": "display_data"
    },
    {
     "data": {
      "text/html": [
       "'factor'"
      ],
      "text/latex": [
       "'factor'"
      ],
      "text/markdown": [
       "'factor'"
      ],
      "text/plain": [
       "[1] \"factor\""
      ]
     },
     "metadata": {},
     "output_type": "display_data"
    }
   ],
   "source": [
    "# ANOVA 를 위한 데이터\n",
    "high$group  <- 1\n",
    "middle$group  <- 2\n",
    "low$group  <- 3\n",
    "overlog  <- rbind(high,middle,low)\n",
    "dim(overlog)\n",
    "class(overlog$group)\n",
    "overlog$group  <- factor(overlog$group)\n",
    "class(overlog$group)"
   ]
  },
  {
   "cell_type": "code",
   "execution_count": 13,
   "metadata": {
    "collapsed": false,
    "nbpresent": {
     "id": "3cc5a3c9-393d-4c35-ac35-04d995ba81b8"
    }
   },
   "outputs": [
    {
     "data": {
      "text/plain": [
       "\n",
       "\tBartlett test of homogeneity of variances\n",
       "\n",
       "data:  K.D by group\n",
       "Bartlett's K-squared = 12.045, df = 2, p-value = 0.002424\n"
      ]
     },
     "metadata": {},
     "output_type": "display_data"
    }
   ],
   "source": [
    "#오차의 등분산성 검정 bartlett.test\n",
    "bartlett.test(K.D~group, data=overlog)\n",
    "# 귀무가설 : 등분산성 만족"
   ]
  },
  {
   "cell_type": "code",
   "execution_count": 14,
   "metadata": {
    "collapsed": false,
    "nbpresent": {
     "id": "46520a62-5d6c-43f9-b939-3e7404bdcfa8"
    }
   },
   "outputs": [
    {
     "data": {
      "text/plain": [
       "             Df Sum Sq Mean Sq F value Pr(>F)    \n",
       "group         2  143.2   71.62   144.1 <2e-16 ***\n",
       "Residuals   297  147.7    0.50                   \n",
       "---\n",
       "Signif. codes:  0 '***' 0.001 '**' 0.01 '*' 0.05 '.' 0.1 ' ' 1"
      ]
     },
     "metadata": {},
     "output_type": "display_data"
    }
   ],
   "source": [
    "#ANOVA 수행\n",
    "analysis<-aov(K.D~group, data=overlog)\n",
    "summary(analysis)\n",
    "# 귀무가설 : m1 = m2 =m3"
   ]
  },
  {
   "cell_type": "code",
   "execution_count": 15,
   "metadata": {
    "collapsed": false,
    "nbpresent": {
     "id": "0a115828-96be-4140-9d3f-63e9bfcb57cc"
    }
   },
   "outputs": [
    {
     "data": {
      "text/plain": [
       "\n",
       "\tKruskal-Wallis rank sum test\n",
       "\n",
       "data:  overlog$K.D by overlog$group\n",
       "Kruskal-Wallis chi-squared = 169.23, df = 2, p-value < 2.2e-16\n"
      ]
     },
     "metadata": {},
     "output_type": "display_data"
    }
   ],
   "source": [
    "# 정규성 만족 안할때, Kruskal Wallis Test One Way Anova by Ranks \n",
    "kruskal.test(overlog$K.D~overlog$group)"
   ]
  },
  {
   "cell_type": "code",
   "execution_count": 31,
   "metadata": {
    "collapsed": false,
    "nbpresent": {
     "id": "50739195-ae41-44af-b5dc-d1e6c2b560ed"
    }
   },
   "outputs": [
    {
     "data": {
      "text/html": [
       "'numeric'"
      ],
      "text/latex": [
       "'numeric'"
      ],
      "text/markdown": [
       "'numeric'"
      ],
      "text/plain": [
       "[1] \"numeric\""
      ]
     },
     "metadata": {},
     "output_type": "display_data"
    },
    {
     "data": {
      "text/html": [
       "'factor'"
      ],
      "text/latex": [
       "'factor'"
      ],
      "text/markdown": [
       "'factor'"
      ],
      "text/plain": [
       "[1] \"factor\""
      ]
     },
     "metadata": {},
     "output_type": "display_data"
    },
    {
     "data": {
      "text/html": [
       "<table>\n",
       "<thead><tr><th scope=col>X</th><th scope=col>Country</th><th scope=col>K.D</th><th scope=col>Lv</th><th scope=col>Player</th><th scope=col>Playtime</th><th scope=col>Point</th><th scope=col>Ranking</th><th scope=col>Winratio</th><th scope=col>group</th><th scope=col>K.D2</th></tr></thead>\n",
       "<tbody>\n",
       "\t<tr><td>0       </td><td>PC-KR   </td><td>6.29    </td><td>406     </td><td>EVERMORE</td><td> 8      </td><td>5000    </td><td>1       </td><td>96      </td><td>1       </td><td>6       </td></tr>\n",
       "\t<tr><td>1       </td><td>PC-KR   </td><td>3.45    </td><td> 76     </td><td>boss    </td><td>31      </td><td>5000    </td><td>2       </td><td>77      </td><td>1       </td><td>3       </td></tr>\n",
       "\t<tr><td>2       </td><td>PC-KR   </td><td>3.48    </td><td> 53     </td><td>BOSS    </td><td>25      </td><td>4916    </td><td>3       </td><td>74      </td><td>1       </td><td>3       </td></tr>\n",
       "\t<tr><td>3       </td><td>PC-EU   </td><td>3.31    </td><td>195     </td><td>SoOn    </td><td>29      </td><td>4900    </td><td>4       </td><td>77      </td><td>1       </td><td>3       </td></tr>\n",
       "\t<tr><td>4       </td><td>PC-EU   </td><td>3.74    </td><td>151     </td><td>Zebbosai</td><td>16      </td><td>4860    </td><td>5       </td><td>79      </td><td>1       </td><td>3       </td></tr>\n",
       "\t<tr><td>5       </td><td>PC-US   </td><td>4.96    </td><td>298     </td><td>SPREE   </td><td> 6      </td><td>4836    </td><td>6       </td><td>83      </td><td>1       </td><td>4       </td></tr>\n",
       "</tbody>\n",
       "</table>\n"
      ],
      "text/latex": [
       "\\begin{tabular}{r|lllllllllll}\n",
       " X & Country & K.D & Lv & Player & Playtime & Point & Ranking & Winratio & group & K.D2\\\\\n",
       "\\hline\n",
       "\t 0        & PC-KR    & 6.29     & 406      & EVERMORE &  8       & 5000     & 1        & 96       & 1        & 6       \\\\\n",
       "\t 1        & PC-KR    & 3.45     &  76      & boss     & 31       & 5000     & 2        & 77       & 1        & 3       \\\\\n",
       "\t 2        & PC-KR    & 3.48     &  53      & BOSS     & 25       & 4916     & 3        & 74       & 1        & 3       \\\\\n",
       "\t 3        & PC-EU    & 3.31     & 195      & SoOn     & 29       & 4900     & 4        & 77       & 1        & 3       \\\\\n",
       "\t 4        & PC-EU    & 3.74     & 151      & Zebbosai & 16       & 4860     & 5        & 79       & 1        & 3       \\\\\n",
       "\t 5        & PC-US    & 4.96     & 298      & SPREE    &  6       & 4836     & 6        & 83       & 1        & 4       \\\\\n",
       "\\end{tabular}\n"
      ],
      "text/markdown": [
       "\n",
       "X | Country | K.D | Lv | Player | Playtime | Point | Ranking | Winratio | group | K.D2 | \n",
       "|---|---|---|---|---|---|\n",
       "| 0        | PC-KR    | 6.29     | 406      | EVERMORE |  8       | 5000     | 1        | 96       | 1        | 6        | \n",
       "| 1        | PC-KR    | 3.45     |  76      | boss     | 31       | 5000     | 2        | 77       | 1        | 3        | \n",
       "| 2        | PC-KR    | 3.48     |  53      | BOSS     | 25       | 4916     | 3        | 74       | 1        | 3        | \n",
       "| 3        | PC-EU    | 3.31     | 195      | SoOn     | 29       | 4900     | 4        | 77       | 1        | 3        | \n",
       "| 4        | PC-EU    | 3.74     | 151      | Zebbosai | 16       | 4860     | 5        | 79       | 1        | 3        | \n",
       "| 5        | PC-US    | 4.96     | 298      | SPREE    |  6       | 4836     | 6        | 83       | 1        | 4        | \n",
       "\n",
       "\n"
      ],
      "text/plain": [
       "  X Country K.D  Lv  Player   Playtime Point Ranking Winratio group K.D2\n",
       "1 0 PC-KR   6.29 406 EVERMORE  8       5000  1       96       1     6   \n",
       "2 1 PC-KR   3.45  76 boss     31       5000  2       77       1     3   \n",
       "3 2 PC-KR   3.48  53 BOSS     25       4916  3       74       1     3   \n",
       "4 3 PC-EU   3.31 195 SoOn     29       4900  4       77       1     3   \n",
       "5 4 PC-EU   3.74 151 Zebbosai 16       4860  5       79       1     3   \n",
       "6 5 PC-US   4.96 298 SPREE     6       4836  6       83       1     4   "
      ]
     },
     "metadata": {},
     "output_type": "display_data"
    }
   ],
   "source": [
    "#카이제곱\n",
    "class(high$K.D)\n",
    "high$K.D2 = substring(high$K.D,1,1)\n",
    "high$K.D2 = as.factor(high$K.D2)\n",
    "class(high$K.D2)\n",
    "head(high)"
   ]
  },
  {
   "cell_type": "code",
   "execution_count": 45,
   "metadata": {
    "collapsed": false
   },
   "outputs": [
    {
     "name": "stdout",
     "output_type": "stream",
     "text": [
      "'data.frame':\t100 obs. of  11 variables:\n",
      " $ X       : int  0 1 2 3 4 5 6 7 8 9 ...\n",
      " $ Country : Factor w/ 3 levels \"PC-EU\",\"PC-KR\",..: 2 2 2 1 1 3 1 2 1 2 ...\n",
      " $ K.D     : num  6.29 3.45 3.48 3.31 3.74 4.96 3 3.6 3.22 3.76 ...\n",
      " $ Lv      : int  406 76 53 195 151 298 171 491 161 297 ...\n",
      " $ Player  : Factor w/ 97 levels \"AFLagerMan\",\"Agilities\",..: 21 8 10 71 84 72 39 74 86 75 ...\n",
      " $ Playtime: int  8 31 25 29 16 6 11 23 11 16 ...\n",
      " $ Point   : int  5000 5000 4916 4900 4860 4836 4833 4831 4817 4809 ...\n",
      " $ Ranking : int  1 2 3 4 5 6 7 8 9 10 ...\n",
      " $ Winratio: int  96 77 74 77 79 83 78 77 71 80 ...\n",
      " $ group   : num  1 1 1 1 1 1 1 1 1 1 ...\n",
      " $ K.D2    : Factor w/ 5 levels \"2\",\"3\",\"4\",\"5\",..: 5 2 2 2 2 3 2 2 2 2 ...\n"
     ]
    },
    {
     "name": "stderr",
     "output_type": "stream",
     "text": [
      "The following objects are masked from high (pos = 3):\n",
      "\n",
      "    Country, group, K.D, K.D2, Lv, Player, Playtime, Point, Ranking,\n",
      "    Winratio, X\n",
      "\n",
      "The following objects are masked from high (pos = 7):\n",
      "\n",
      "    Country, group, K.D, K.D2, Lv, Player, Playtime, Point, Ranking,\n",
      "    Winratio, X\n",
      "\n",
      "Warning message in chisq.test(t, correct = FALSE, ...):\n",
      "\"Chi-squared approximation may be incorrect\""
     ]
    },
    {
     "name": "stdout",
     "output_type": "stream",
     "text": [
      "\n",
      " \n",
      "   Cell Contents\n",
      "|-------------------------|\n",
      "|                       N |\n",
      "|              Expected N |\n",
      "| Chi-square contribution |\n",
      "|           N / Row Total |\n",
      "|           N / Col Total |\n",
      "|         N / Table Total |\n",
      "|-------------------------|\n",
      "\n",
      " \n",
      "Total Observations in Table:  100 \n",
      "\n",
      " \n",
      "             | K.D2 \n",
      "     Country |         2 |         3 |         4 |         5 |         6 | Row Total | \n",
      "-------------|-----------|-----------|-----------|-----------|-----------|-----------|\n",
      "       PC-EU |         7 |        18 |         5 |         0 |         0 |        30 | \n",
      "             |     8.100 |    16.500 |     4.200 |     0.900 |     0.300 |           | \n",
      "             |     0.149 |     0.136 |     0.152 |     0.900 |     0.300 |           | \n",
      "             |     0.233 |     0.600 |     0.167 |     0.000 |     0.000 |     0.300 | \n",
      "             |     0.259 |     0.327 |     0.357 |     0.000 |     0.000 |           | \n",
      "             |     0.070 |     0.180 |     0.050 |     0.000 |     0.000 |           | \n",
      "-------------|-----------|-----------|-----------|-----------|-----------|-----------|\n",
      "       PC-KR |        19 |        30 |         4 |         3 |         1 |        57 | \n",
      "             |    15.390 |    31.350 |     7.980 |     1.710 |     0.570 |           | \n",
      "             |     0.847 |     0.058 |     1.985 |     0.973 |     0.324 |           | \n",
      "             |     0.333 |     0.526 |     0.070 |     0.053 |     0.018 |     0.570 | \n",
      "             |     0.704 |     0.545 |     0.286 |     1.000 |     1.000 |           | \n",
      "             |     0.190 |     0.300 |     0.040 |     0.030 |     0.010 |           | \n",
      "-------------|-----------|-----------|-----------|-----------|-----------|-----------|\n",
      "       PC-US |         1 |         7 |         5 |         0 |         0 |        13 | \n",
      "             |     3.510 |     7.150 |     1.820 |     0.390 |     0.130 |           | \n",
      "             |     1.795 |     0.003 |     5.556 |     0.390 |     0.130 |           | \n",
      "             |     0.077 |     0.538 |     0.385 |     0.000 |     0.000 |     0.130 | \n",
      "             |     0.037 |     0.127 |     0.357 |     0.000 |     0.000 |           | \n",
      "             |     0.010 |     0.070 |     0.050 |     0.000 |     0.000 |           | \n",
      "-------------|-----------|-----------|-----------|-----------|-----------|-----------|\n",
      "Column Total |        27 |        55 |        14 |         3 |         1 |       100 | \n",
      "             |     0.270 |     0.550 |     0.140 |     0.030 |     0.010 |           | \n",
      "-------------|-----------|-----------|-----------|-----------|-----------|-----------|\n",
      "\n",
      " \n",
      "Statistics for All Table Factors\n",
      "\n",
      "\n",
      "Pearson's Chi-squared test \n",
      "------------------------------------------------------------\n",
      "Chi^2 =  13.69992     d.f. =  8     p =  0.08993008 \n",
      "\n",
      "\n",
      " \n"
     ]
    }
   ],
   "source": [
    "#install.packages(\"gmodels\")\n",
    "#install.packages(\"vcd\")\n",
    "library(gmodels)\n",
    "library(vcd)\n",
    "library(grid)\n",
    "str(high)\n",
    "attach(high)\n",
    "CrossTable(Country, K.D2, expected = TRUE, chisq = TRUE) "
   ]
  },
  {
   "cell_type": "code",
   "execution_count": null,
   "metadata": {
    "collapsed": true
   },
   "outputs": [],
   "source": [
    "#(효과가 없다는 귀무가설을 기각하고, 효과가 있다(즉 독립이 아니다)는 대립가설 채택)\n",
    "#http://rfriend.tistory.com/112"
   ]
  }
 ],
 "metadata": {
  "anaconda-cloud": {
   "attach-environment": false,
   "summary": "overlog"
  },
  "kernelspec": {
   "display_name": "R",
   "language": "R",
   "name": "ir"
  },
  "language_info": {
   "codemirror_mode": "r",
   "file_extension": ".r",
   "mimetype": "text/x-r-source",
   "name": "R",
   "pygments_lexer": "r",
   "version": "3.3.2"
  },
  "nbpresent": {
   "slides": {
    "055518fe-7b2f-487a-a83e-c972d36dc11a": {
     "id": "055518fe-7b2f-487a-a83e-c972d36dc11a",
     "prev": "a0598eb9-6ffa-4c46-a63f-8ffa98d56c6b",
     "regions": {
      "b4d67848-abbb-4809-b777-cd1eda91f156": {
       "attrs": {
        "height": 0.8,
        "width": 0.8,
        "x": 0.1,
        "y": 0.1
       },
       "content": {
        "cell": "05210ff0-490c-4ddd-918b-71e10b958b96",
        "part": "whole"
       },
       "id": "b4d67848-abbb-4809-b777-cd1eda91f156"
      }
     }
    },
    "0e01eb99-9c8b-4066-b2bd-528aec097342": {
     "id": "0e01eb99-9c8b-4066-b2bd-528aec097342",
     "prev": "7605032a-dc32-4256-ad95-f06d8769f129",
     "regions": {
      "1883fab1-cf7b-4046-9eac-3af118eb4f6b": {
       "attrs": {
        "height": 0.8,
        "width": 0.8,
        "x": 0.1,
        "y": 0.1
       },
       "content": {
        "cell": "deb89fa8-626e-4984-a488-4f284a7e1dc8",
        "part": "whole"
       },
       "id": "1883fab1-cf7b-4046-9eac-3af118eb4f6b"
      }
     }
    },
    "35b77db1-ccff-4630-9d93-e3f01826e7f2": {
     "id": "35b77db1-ccff-4630-9d93-e3f01826e7f2",
     "prev": "cca57372-8bef-4ac9-b442-665b6f8a18a0",
     "regions": {
      "034d0570-d45a-467c-8776-0e93fa543b58": {
       "attrs": {
        "height": 0.8,
        "width": 0.8,
        "x": 0.1,
        "y": 0.1
       },
       "content": {
        "cell": "3cc5a3c9-393d-4c35-ac35-04d995ba81b8",
        "part": "whole"
       },
       "id": "034d0570-d45a-467c-8776-0e93fa543b58"
      }
     }
    },
    "3608a2b2-98c9-4824-85b7-9ec533eaefad": {
     "id": "3608a2b2-98c9-4824-85b7-9ec533eaefad",
     "layout": "manual",
     "prev": null,
     "regions": {
      "c9c72b43-aab6-4f77-acbe-6ea473b2d5f7": {
       "attrs": {
        "height": 5,
        "pad": 0.01,
        "treemap:weight": 1,
        "width": 1,
        "x": 2.416666666666667,
        "y": 0
       },
       "content": {
        "cell": "f2b3a2dc-8cc1-4988-a5e4-aed455eff7c7",
        "part": "whole"
       },
       "id": "c9c72b43-aab6-4f77-acbe-6ea473b2d5f7"
      }
     }
    },
    "368f9ddc-1386-4b7f-bc64-97da2063f24d": {
     "id": "368f9ddc-1386-4b7f-bc64-97da2063f24d",
     "prev": "83f06be0-627b-4f86-8641-4f097a7cde90",
     "regions": {
      "f36cce94-0773-4550-8054-b6d8a688757f": {
       "attrs": {
        "height": 0.8,
        "width": 0.8,
        "x": 0.1,
        "y": 0.1
       },
       "content": {
        "cell": "0d1900af-beba-40c2-90d2-c8401c75c52a",
        "part": "whole"
       },
       "id": "f36cce94-0773-4550-8054-b6d8a688757f"
      }
     }
    },
    "37fc9f0b-e1ff-4390-9d98-6808e612f2a5": {
     "id": "37fc9f0b-e1ff-4390-9d98-6808e612f2a5",
     "prev": "d4d9bc15-da0a-416d-acd5-1e7e282b240b",
     "regions": {
      "50f41a5a-5f3b-480a-85ad-ac98763aa355": {
       "attrs": {
        "height": 0.8,
        "width": 0.8,
        "x": 0.1,
        "y": 0.1
       },
       "content": {
        "cell": "b90a7a66-2373-4899-adf6-7490343298cf",
        "part": "whole"
       },
       "id": "50f41a5a-5f3b-480a-85ad-ac98763aa355"
      }
     }
    },
    "3ea739b3-48c2-4b75-a738-6e87cdcb0610": {
     "id": "3ea739b3-48c2-4b75-a738-6e87cdcb0610",
     "prev": "aaa4bd1e-0921-4356-a190-61d145ffdf6f",
     "regions": {
      "05e274a2-2dc6-48d6-bf81-0f9a80acf69d": {
       "attrs": {
        "height": 0.8,
        "width": 0.8,
        "x": 0.1,
        "y": 0.1
       },
       "content": {
        "cell": "67508309-5b9e-46e4-92e9-afd3dea18dd9",
        "part": "whole"
       },
       "id": "05e274a2-2dc6-48d6-bf81-0f9a80acf69d"
      }
     }
    },
    "404f7dda-d1be-45c0-91a3-9065ba87e492": {
     "id": "404f7dda-d1be-45c0-91a3-9065ba87e492",
     "prev": "0e01eb99-9c8b-4066-b2bd-528aec097342",
     "regions": {
      "d9cef2a4-6786-4fe3-9878-1448452e2650": {
       "attrs": {
        "height": 0.8,
        "width": 0.8,
        "x": 0.1,
        "y": 0.1
       },
       "content": {
        "cell": "c6e531c8-66e2-4981-a5e7-9e23eb312353",
        "part": "whole"
       },
       "id": "d9cef2a4-6786-4fe3-9878-1448452e2650"
      }
     }
    },
    "52a8f6c0-f40b-4638-b2ac-200e4ba5af16": {
     "id": "52a8f6c0-f40b-4638-b2ac-200e4ba5af16",
     "prev": "a4557fc4-c531-4240-afc9-9ba4cc52ef83",
     "regions": {
      "14afd9ec-1f44-4448-9e03-cc22e929db43": {
       "attrs": {
        "height": 0.8,
        "width": 0.8,
        "x": 0.1,
        "y": 0.1
       },
       "content": {
        "cell": "e13c8eec-ff8f-4d7a-9859-2150a10d8b22",
        "part": "whole"
       },
       "id": "14afd9ec-1f44-4448-9e03-cc22e929db43"
      }
     }
    },
    "53f692cb-156d-400a-a192-5da35c344ae9": {
     "id": "53f692cb-156d-400a-a192-5da35c344ae9",
     "prev": "87dae931-20f1-4023-8cba-e9ac8a6ad29e",
     "regions": {
      "e99769e7-5c94-4159-a434-221a19315953": {
       "attrs": {
        "height": 0.8,
        "width": 0.8,
        "x": 0.1,
        "y": 0.1
       },
       "content": {
        "cell": "50739195-ae41-44af-b5dc-d1e6c2b560ed",
        "part": "whole"
       },
       "id": "e99769e7-5c94-4159-a434-221a19315953"
      }
     }
    },
    "6cc2cb22-e96c-4349-8c00-a0cf44aca9e3": {
     "id": "6cc2cb22-e96c-4349-8c00-a0cf44aca9e3",
     "prev": "97c8b267-8fd7-4bec-b88a-320dbcfd08ce",
     "regions": {
      "ba3165d1-e0c9-4417-b5f9-87bb41ce43b7": {
       "attrs": {
        "height": 0.8,
        "width": 0.8,
        "x": 0.1,
        "y": 0.1
       },
       "content": {
        "cell": "487af54a-7f68-4ada-81c0-c1ae917ecb82",
        "part": "whole"
       },
       "id": "ba3165d1-e0c9-4417-b5f9-87bb41ce43b7"
      }
     }
    },
    "7605032a-dc32-4256-ad95-f06d8769f129": {
     "id": "7605032a-dc32-4256-ad95-f06d8769f129",
     "prev": "b1a7e2ce-3592-4d78-a1be-d999700a7f35",
     "regions": {
      "200c55e8-2158-458d-8527-79561e743e79": {
       "attrs": {
        "height": 0.8,
        "width": 0.8,
        "x": 0.1,
        "y": 0.1
       },
       "content": {
        "cell": "c606367d-cc44-4c45-80a4-6c543dbf082e",
        "part": "whole"
       },
       "id": "200c55e8-2158-458d-8527-79561e743e79"
      }
     }
    },
    "7c2058ee-4606-42f4-b265-c7934298c8d7": {
     "id": "7c2058ee-4606-42f4-b265-c7934298c8d7",
     "prev": "f70077d7-2eea-4f58-b648-e2e22dcd1013",
     "regions": {
      "42cabb98-b714-4bde-8b6a-e4b8e647e92e": {
       "attrs": {
        "height": 0.8,
        "width": 0.8,
        "x": 0.1,
        "y": 0.1
       },
       "content": {
        "cell": "912b88e8-96db-47d4-9542-a1fbd8201a54",
        "part": "whole"
       },
       "id": "42cabb98-b714-4bde-8b6a-e4b8e647e92e"
      }
     }
    },
    "8346cdf9-bfde-42b5-8d69-c4dee221b358": {
     "id": "8346cdf9-bfde-42b5-8d69-c4dee221b358",
     "prev": "52a8f6c0-f40b-4638-b2ac-200e4ba5af16",
     "regions": {
      "29161b3d-b0d2-4fbc-a781-520c7fc77e75": {
       "attrs": {
        "height": 0.8,
        "width": 0.8,
        "x": 0.1,
        "y": 0.1
       },
       "content": {
        "cell": "f05a868c-534b-4add-95d1-39ba248b2a28",
        "part": "whole"
       },
       "id": "29161b3d-b0d2-4fbc-a781-520c7fc77e75"
      }
     }
    },
    "83f06be0-627b-4f86-8641-4f097a7cde90": {
     "id": "83f06be0-627b-4f86-8641-4f097a7cde90",
     "prev": "f4b33618-9084-4548-95c2-fc34430e7b5e",
     "regions": {
      "e354b2b5-d5e5-415f-9c53-2bae3fbb4b30": {
       "attrs": {
        "height": 0.8,
        "width": 0.8,
        "x": 0.1,
        "y": 0.1
       },
       "content": {
        "cell": "7acf3045-f14d-4f44-9c32-41c68b08fef5",
        "part": "whole"
       },
       "id": "e354b2b5-d5e5-415f-9c53-2bae3fbb4b30"
      }
     }
    },
    "87dae931-20f1-4023-8cba-e9ac8a6ad29e": {
     "id": "87dae931-20f1-4023-8cba-e9ac8a6ad29e",
     "prev": "ef587e6f-544b-4de0-a18a-bf84bbb77019",
     "regions": {
      "84f28c0f-3dac-4cd9-b638-7d8a646e4b0b": {
       "attrs": {
        "height": 0.8,
        "width": 0.8,
        "x": 0.1,
        "y": 0.1
       },
       "content": {
        "cell": "0a115828-96be-4140-9d3f-63e9bfcb57cc",
        "part": "whole"
       },
       "id": "84f28c0f-3dac-4cd9-b638-7d8a646e4b0b"
      }
     }
    },
    "8f54a24d-c13d-4972-854b-c15c7f97365b": {
     "id": "8f54a24d-c13d-4972-854b-c15c7f97365b",
     "prev": "055518fe-7b2f-487a-a83e-c972d36dc11a",
     "regions": {
      "a7916a95-f3e9-4d80-8cdd-e701dd6b7e19": {
       "attrs": {
        "height": 0.8,
        "width": 0.8,
        "x": 0.1,
        "y": 0.1
       },
       "content": {
        "cell": "5e680042-6cd2-4de5-941e-086e557cff66",
        "part": "whole"
       },
       "id": "a7916a95-f3e9-4d80-8cdd-e701dd6b7e19"
      }
     }
    },
    "97c8b267-8fd7-4bec-b88a-320dbcfd08ce": {
     "id": "97c8b267-8fd7-4bec-b88a-320dbcfd08ce",
     "prev": "8f54a24d-c13d-4972-854b-c15c7f97365b",
     "regions": {
      "0646c753-76b6-482f-9211-1c050d59c559": {
       "attrs": {
        "height": 0.8,
        "width": 0.8,
        "x": 0.1,
        "y": 0.1
       },
       "content": {
        "cell": "48f7b901-13c9-49a9-bb37-9f318df96197",
        "part": "whole"
       },
       "id": "0646c753-76b6-482f-9211-1c050d59c559"
      }
     }
    },
    "a0598eb9-6ffa-4c46-a63f-8ffa98d56c6b": {
     "id": "a0598eb9-6ffa-4c46-a63f-8ffa98d56c6b",
     "prev": "3608a2b2-98c9-4824-85b7-9ec533eaefad",
     "regions": {
      "960844b0-9054-489c-a4f2-d1b25ec96c27": {
       "attrs": {
        "height": 0.4,
        "width": 0.4,
        "x": 0.1,
        "y": 0.1
       },
       "content": {
        "cell": "f2b3a2dc-8cc1-4988-a5e4-aed455eff7c7",
        "part": "source"
       },
       "id": "960844b0-9054-489c-a4f2-d1b25ec96c27"
      },
      "c655700a-68cb-40ff-a3fe-88939f506ba9": {
       "attrs": {
        "height": 0.4,
        "width": 0.4,
        "x": 0.1,
        "y": 0.5
       },
       "content": {
        "cell": "5e680042-6cd2-4de5-941e-086e557cff66",
        "part": "source"
       },
       "id": "c655700a-68cb-40ff-a3fe-88939f506ba9"
      },
      "cb66c811-907d-4d81-b6b4-5eaff4e3e7ba": {
       "attrs": {
        "height": 0.4,
        "width": 0.4,
        "x": 0.5,
        "y": 0.1
       },
       "content": {
        "cell": "05210ff0-490c-4ddd-918b-71e10b958b96",
        "part": "source"
       },
       "id": "cb66c811-907d-4d81-b6b4-5eaff4e3e7ba"
      },
      "de187a6a-a292-47ef-8c26-637813582b46": {
       "attrs": {
        "height": 0.4,
        "width": 0.4,
        "x": 0.5,
        "y": 0.5
       },
       "content": {
        "cell": "48f7b901-13c9-49a9-bb37-9f318df96197",
        "part": "source"
       },
       "id": "de187a6a-a292-47ef-8c26-637813582b46"
      }
     }
    },
    "a4557fc4-c531-4240-afc9-9ba4cc52ef83": {
     "id": "a4557fc4-c531-4240-afc9-9ba4cc52ef83",
     "prev": "404f7dda-d1be-45c0-91a3-9065ba87e492",
     "regions": {
      "2343429d-ea93-471e-b8da-f410fea853b8": {
       "attrs": {
        "height": 0.8,
        "width": 0.8,
        "x": 0.1,
        "y": 0.1
       },
       "content": {
        "cell": "e172b159-3135-4c29-80c1-95e9cf274f17",
        "part": "whole"
       },
       "id": "2343429d-ea93-471e-b8da-f410fea853b8"
      }
     }
    },
    "aaa4bd1e-0921-4356-a190-61d145ffdf6f": {
     "id": "aaa4bd1e-0921-4356-a190-61d145ffdf6f",
     "prev": "7c2058ee-4606-42f4-b265-c7934298c8d7",
     "regions": {
      "ebd1f6f7-4263-4627-bf0e-285ad2a1850c": {
       "attrs": {
        "height": 0.8,
        "width": 0.8,
        "x": 0.1,
        "y": 0.1
       },
       "content": {
        "cell": "5e6ba4a0-d36f-41a5-8c5a-904ebd97aae2",
        "part": "whole"
       },
       "id": "ebd1f6f7-4263-4627-bf0e-285ad2a1850c"
      }
     }
    },
    "b1a7e2ce-3592-4d78-a1be-d999700a7f35": {
     "id": "b1a7e2ce-3592-4d78-a1be-d999700a7f35",
     "prev": "6cc2cb22-e96c-4349-8c00-a0cf44aca9e3",
     "regions": {
      "1d7a442e-bad8-4a7e-8c32-36743a4bf42f": {
       "attrs": {
        "height": 0.8,
        "width": 0.8,
        "x": 0.1,
        "y": 0.1
       },
       "content": {
        "cell": "de25bec1-3870-493e-b498-d0fccf89f812",
        "part": "whole"
       },
       "id": "1d7a442e-bad8-4a7e-8c32-36743a4bf42f"
      }
     }
    },
    "cca57372-8bef-4ac9-b442-665b6f8a18a0": {
     "id": "cca57372-8bef-4ac9-b442-665b6f8a18a0",
     "prev": "368f9ddc-1386-4b7f-bc64-97da2063f24d",
     "regions": {
      "171041b5-6294-4ad0-bdd6-0cba3f89e5ca": {
       "attrs": {
        "height": 0.8,
        "width": 0.8,
        "x": 0.1,
        "y": 0.1
       },
       "content": {
        "cell": "076c8707-8e0f-4298-b42c-06c3870f8e24",
        "part": "whole"
       },
       "id": "171041b5-6294-4ad0-bdd6-0cba3f89e5ca"
      }
     }
    },
    "d4d9bc15-da0a-416d-acd5-1e7e282b240b": {
     "id": "d4d9bc15-da0a-416d-acd5-1e7e282b240b",
     "prev": "ed3e34cf-6781-4779-9605-e15f998059f7",
     "regions": {
      "ee08fd60-6e52-4715-bb14-f8466589f304": {
       "attrs": {
        "height": 0.8,
        "width": 0.8,
        "x": 0.1,
        "y": 0.1
       },
       "content": {
        "cell": "b4721e58-e224-4c8b-a9fb-afabe1c3d6a4",
        "part": "whole"
       },
       "id": "ee08fd60-6e52-4715-bb14-f8466589f304"
      }
     }
    },
    "ed3e34cf-6781-4779-9605-e15f998059f7": {
     "id": "ed3e34cf-6781-4779-9605-e15f998059f7",
     "prev": "8346cdf9-bfde-42b5-8d69-c4dee221b358",
     "regions": {}
    },
    "ef587e6f-544b-4de0-a18a-bf84bbb77019": {
     "id": "ef587e6f-544b-4de0-a18a-bf84bbb77019",
     "prev": "35b77db1-ccff-4630-9d93-e3f01826e7f2",
     "regions": {
      "02fd39d1-2b72-4727-8cdc-b3e7703970d9": {
       "attrs": {
        "height": 0.8,
        "width": 0.8,
        "x": 0.1,
        "y": 0.1
       },
       "content": {
        "cell": "46520a62-5d6c-43f9-b939-3e7404bdcfa8",
        "part": "whole"
       },
       "id": "02fd39d1-2b72-4727-8cdc-b3e7703970d9"
      }
     }
    },
    "f4b33618-9084-4548-95c2-fc34430e7b5e": {
     "id": "f4b33618-9084-4548-95c2-fc34430e7b5e",
     "prev": "3ea739b3-48c2-4b75-a738-6e87cdcb0610",
     "regions": {
      "b3d148b0-d383-466e-89cb-5044767e840e": {
       "attrs": {
        "height": 0.8,
        "width": 0.8,
        "x": 0.1,
        "y": 0.1
       },
       "content": {
        "cell": "4b7a0933-5fdd-452e-98b8-a5fd8a99b8f8",
        "part": "whole"
       },
       "id": "b3d148b0-d383-466e-89cb-5044767e840e"
      }
     }
    },
    "f70077d7-2eea-4f58-b648-e2e22dcd1013": {
     "id": "f70077d7-2eea-4f58-b648-e2e22dcd1013",
     "prev": "37fc9f0b-e1ff-4390-9d98-6808e612f2a5",
     "regions": {
      "e488ea21-1129-43b4-bb9b-c1d3ac67e161": {
       "attrs": {
        "height": 0.8,
        "width": 0.8,
        "x": 0.1,
        "y": 0.1
       },
       "content": {
        "cell": "91642b07-2b05-4fdb-b4a2-ab6fa1200186",
        "part": "whole"
       },
       "id": "e488ea21-1129-43b4-bb9b-c1d3ac67e161"
      }
     }
    }
   },
   "themes": {
    "default": "1968b42d-153e-4e40-932f-637eebdf1d00",
    "theme": {}
   }
  }
 },
 "nbformat": 4,
 "nbformat_minor": 1
}
